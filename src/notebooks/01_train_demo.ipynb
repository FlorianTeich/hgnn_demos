{
 "cells": [
  {
   "cell_type": "markdown",
   "metadata": {},
   "source": [
    "# Demonstrate Combination of neo4j & PyTorch"
   ]
  },
  {
   "cell_type": "code",
   "execution_count": null,
   "metadata": {},
   "outputs": [],
   "source": [
    "from torch_geometric.data import HeteroData\n",
    "from torch_geometric.transforms import ToUndirected\n",
    "from torch_geometric.data import Dataset\n",
    "from torch_geometric.loader import DataLoader\n",
    "import torch_geometric.transforms as T\n",
    "from torch import Tensor\n",
    "import torch\n",
    "import numpy as np\n",
    "import sys\n",
    "import networkx as nx\n",
    "sys.path.append('../scripts/')\n",
    "from utils_neo4j import load_node, conn, get_db_query_result_as_networkx"
   ]
  },
  {
   "cell_type": "code",
   "execution_count": null,
   "metadata": {},
   "outputs": [],
   "source": [
    "# Important information:\n",
    "# record_table\n",
    "# record_target_column"
   ]
  },
  {
   "cell_type": "code",
   "execution_count": null,
   "metadata": {},
   "outputs": [],
   "source": [
    "# get all types of nodes inside the graph database\n",
    "def get_node_types():\n",
    "    query = \"MATCH (n) RETURN DISTINCT labels(n) as node_type\"\n",
    "    return conn.query(query)\n",
    "\n",
    "print(\"🌎 Node types:\")\n",
    "[print(\"-\", x[\"node_type\"][0]) for x in get_node_types()]\n",
    "print()\n",
    "\n",
    "def get_relationship_types():\n",
    "    query = \"MATCH ()-[r]->() RETURN DISTINCT type(r) as relationship_type\"\n",
    "    return conn.query(query)\n",
    "\n",
    "print(\"🌐 Node types:\")\n",
    "[print(\"-\", x[\"relationship_type\"]) for x in get_relationship_types()]\n",
    "print()"
   ]
  },
  {
   "cell_type": "code",
   "execution_count": null,
   "metadata": {},
   "outputs": [],
   "source": [
    "G = get_db_query_result_as_networkx()"
   ]
  },
  {
   "cell_type": "code",
   "execution_count": null,
   "metadata": {},
   "outputs": [],
   "source": [
    "# show graph\n",
    "nx.draw(G, with_labels=True)"
   ]
  },
  {
   "cell_type": "code",
   "execution_count": null,
   "metadata": {},
   "outputs": [],
   "source": [
    "# Relabel all nodes inside the networkx graph to monotonically increasing integers starting at 0\n",
    "G = nx.convert_node_labels_to_integers(G, first_label=0, ordering=\"sorted\")"
   ]
  },
  {
   "cell_type": "code",
   "execution_count": null,
   "metadata": {},
   "outputs": [],
   "source": [
    "G.nodes"
   ]
  },
  {
   "cell_type": "code",
   "execution_count": null,
   "metadata": {},
   "outputs": [],
   "source": [
    "record_table = \"entity\"\n",
    "record_target_column = \"feature_1\"\n",
    "device = torch.device(\"cuda\" if torch.cuda.is_available() else \"cpu\")\n",
    "\n",
    "\n",
    "def get_single_graph(idx=0):\n",
    "    data_ = HeteroData()\n",
    "\n",
    "    G = get_db_query_result_as_networkx()\n",
    "    for nodetype in G.nodes:\n",
    "        data_[nodetype].x = torch.from_numpy(np.array([G.nodes[nodetype][idx][record_target_column]]))\n",
    "\n",
    "    data_[record_table].label = torch.tensor([G.nodes[record_table][idx][record_target_column]])\n",
    "\n",
    "    for n1, n2, e in G.edges:\n",
    "        data_[list(G.nodes[n1][\"labels\"])[0],\n",
    "              G.get_edge_data(n1, n2)[\"type\"],\n",
    "              list(G.nodes[n2][\"labels\"])[0]].edge_index = edge_index_\n",
    "    data_ = ToUndirected()(data_)\n",
    "    data_.to(device, non_blocking=True)\n",
    "    return data_"
   ]
  },
  {
   "cell_type": "code",
   "execution_count": null,
   "metadata": {},
   "outputs": [],
   "source": [
    "class MyOwnDataset(Dataset):\n",
    "    def __init__(self, root, transform=None, pre_transform=None, pre_filter=None, mode=\"train\"):\n",
    "        super().__init__(root, transform, pre_transform, pre_filter)\n",
    "        self.mode = mode\n",
    "        if mode == \"train\":\n",
    "            self.inds = train.index.tolist()\n",
    "        elif mode == \"val\":\n",
    "            self.inds = validate.index.tolist()\n",
    "        elif mode == \"test\":\n",
    "            self.inds = test.index.tolist()\n",
    "        # print(self.inds)\n",
    "\n",
    "    @property\n",
    "    def raw_file_names(self):\n",
    "        return [\n",
    "            \"some_file_1\",\n",
    "        ]\n",
    "\n",
    "    @property\n",
    "    def processed_file_names(self):\n",
    "        return [\n",
    "            \"data_1.pt\",\n",
    "        ]\n",
    "\n",
    "    def download(self):\n",
    "        pass\n",
    "\n",
    "    def process(self):\n",
    "        pass\n",
    "\n",
    "    def len(self):\n",
    "        return len(self.inds)\n",
    "\n",
    "    def get(self, idx):\n",
    "        data = get_single_graph(self.inds[idx])\n",
    "        return data"
   ]
  },
  {
   "cell_type": "code",
   "execution_count": null,
   "metadata": {},
   "outputs": [],
   "source": [
    "dset_train = MyOwnDataset(root=\"\", mode=\"train\")\n",
    "dset_val = MyOwnDataset(root=\"\", mode=\"val\")\n",
    "dset_test = MyOwnDataset(root=\"\", mode=\"test\")"
   ]
  },
  {
   "cell_type": "code",
   "execution_count": null,
   "metadata": {},
   "outputs": [],
   "source": [
    "g = dset_train.get(0)\n",
    "g = T.AddSelfLoops()(g)"
   ]
  },
  {
   "cell_type": "code",
   "execution_count": null,
   "metadata": {},
   "outputs": [],
   "source": [
    "from torch_geometric.nn import BatchNorm, GraphConv\n",
    "from torch_geometric.nn import MultiAggregation\n",
    "from torch_geometric.nn import Linear\n",
    "import torch.nn.functional as F\n",
    "from torch_geometric.data import Batch\n",
    "from torch_geometric.nn import to_hetero\n",
    "\n",
    "\n",
    "batch_size = 32\n",
    "hidden_size = 27\n",
    "num_classes = 2\n",
    "learn_rate = 0.01\n",
    "aggr = \"max\"\n",
    "\n",
    "class GraphLevelGNNRes(torch.nn.Module):\n",
    "    def __init__(self):\n",
    "        super().__init__()\n",
    "        self.conv1 = GraphConv(-1, 27)\n",
    "        self.conv2 = GraphConv(-1, 27)\n",
    "        self.conv3 = GraphConv(-1, 27)\n",
    "        self.batchnorm1 = BatchNorm(27)\n",
    "        self.pool = MultiAggregation(aggrs=[\"mean\", \"min\", \"max\"], mode=\"cat\")\n",
    "        self.lin = Linear(hidden_size * 3, num_classes)\n",
    "\n",
    "    def forward(self, x: Tensor, edge_index: Tensor, batch: Tensor) -> Tensor:\n",
    "        h1 = self.conv1(x, edge_index)\n",
    "        h1 = self.batchnorm1(h1)\n",
    "        h1 = F.leaky_relu(h1)\n",
    "        h1 = x + h1\n",
    "        h1 = F.dropout(h1, p=0.1, training=self.training)\n",
    "\n",
    "        h2 = self.conv2(h1, edge_index)\n",
    "        h2 = self.batchnorm1(h2)\n",
    "        h2 = F.leaky_relu(h2)\n",
    "        h2 = h1 + h2\n",
    "        h2 = F.dropout(h2, p=0.1, training=self.training)\n",
    "\n",
    "        h3 = self.conv3(h2, edge_index)\n",
    "        h3 = self.batchnorm1(h3)\n",
    "        h3 = F.leaky_relu(h3)\n",
    "        h3 = h2 + h3\n",
    "        h3 = F.dropout(h3, p=0.1, training=self.training)\n",
    "\n",
    "        h3 = self.pool(h3, batch)\n",
    "        h3 = self.lin(h3)\n",
    "        return h3\n",
    "\n",
    "\n",
    "g1 = get_single_graph(1)\n",
    "g2 = get_single_graph(2)\n",
    "\n",
    "btch = Batch.from_data_list([g1, g2])\n",
    "\n",
    "metadata = g1.metadata()\n",
    "\n",
    "model = GraphLevelGNNRes()\n",
    "model = to_hetero(model, metadata, aggr=aggr, debug=False)\n",
    "optimizer = torch.optim.Adam(model.parameters(), lr=learn_rate)\n",
    "\n",
    "out = model(btch.x_dict, btch.edge_index_dict, btch.batch_dict)"
   ]
  }
 ],
 "metadata": {
  "kernelspec": {
   "display_name": "hgnn-demos-7ddhoTdN-py3.11",
   "language": "python",
   "name": "python3"
  },
  "language_info": {
   "codemirror_mode": {
    "name": "ipython",
    "version": 3
   },
   "file_extension": ".py",
   "mimetype": "text/x-python",
   "name": "python",
   "nbconvert_exporter": "python",
   "pygments_lexer": "ipython3"
  }
 },
 "nbformat": 4,
 "nbformat_minor": 2
}
